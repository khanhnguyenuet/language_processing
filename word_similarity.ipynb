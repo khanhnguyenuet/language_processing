{
 "cells": [
  {
   "cell_type": "code",
   "execution_count": 1,
   "metadata": {},
   "outputs": [],
   "source": [
    "import numpy as np"
   ]
  },
  {
   "cell_type": "code",
   "execution_count": 2,
   "metadata": {},
   "outputs": [],
   "source": [
    "def read_file_to_list(path):\n",
    "    file = open(path)\n",
    "    lines = [line for line in file.readlines()]\n",
    "    file.close()\n",
    "    return lines"
   ]
  },
  {
   "source": [
    "w2v_path = 'W2V_150.txt'\n",
    "eb_list = read_file_to_list(w2v_path)\n",
    "\n",
    "num_of_words = int(eb_list[0]) #77021 từ trong bộ embedding \n",
    "num_of_dimensions = int(eb_list[1]) # mỗi từ tương ứng với 1 véctơ 150 chiều \n",
    "eb_list = eb_list[2:]\n",
    "\n",
    "vector = [None]*num_of_dimensions\n",
    "embeddings = {}\n",
    "\n",
    "for eb in eb_list:\n",
    "    items = eb.split(' ')\n",
    "    word = items[0]\n",
    "    for i in range(num_of_dimensions):\n",
    "        vector[i] = float(items[i+2]) # trừ item đầu tiên và thứ 2 (xâu rỗng)\n",
    "    embeddings[word] = np.array(vector)\n",
    "\n",
    "dict(list(embeddings.items())[0:2])"
   ],
   "cell_type": "code",
   "metadata": {
    "tags": []
   },
   "execution_count": 57,
   "outputs": [
    {
     "output_type": "execute_result",
     "data": {
      "text/plain": [
       "{'những': array([ 2.901038e-01, -2.898787e-01,  4.169351e-01,  1.936890e+00,\n",
       "         4.440359e-01,  1.187533e+00, -1.278718e+00, -3.357244e-01,\n",
       "        -1.059525e+00, -4.051802e-01,  9.927868e-01,  2.713921e-01,\n",
       "         4.353015e-01,  1.896744e-01,  2.499255e-01,  9.544332e-01,\n",
       "         3.713105e-01,  4.723712e-01,  2.987050e-01,  9.900422e-02,\n",
       "         5.380060e-02,  1.256095e-01, -2.945406e-01, -2.668967e-01,\n",
       "        -4.368787e-01,  1.352120e+00, -3.540562e-01,  7.705687e-01,\n",
       "        -6.539557e-01,  6.201942e-01, -4.162242e-01,  6.057601e-01,\n",
       "         5.687499e-03,  2.138319e-01, -1.188556e+00,  2.894022e-01,\n",
       "        -6.332723e-01, -9.608023e-01,  5.113855e-01, -6.741438e-01,\n",
       "        -5.453097e-01, -1.733377e+00,  4.026040e-01,  4.122192e-01,\n",
       "         8.170357e-01, -4.663657e-01, -1.512289e-01, -8.130344e-02,\n",
       "        -1.436132e-02,  9.065846e-01, -3.635000e-02,  4.515977e-01,\n",
       "         1.006652e+00, -1.006614e-01,  7.427867e-01,  2.368379e-01,\n",
       "         4.215781e-01, -4.080069e-01,  5.122606e-01, -2.412347e-01,\n",
       "        -1.213612e+00,  7.888793e-02,  1.292419e-01,  4.145024e-01,\n",
       "        -8.490115e-01, -6.491510e-01,  9.899794e-01,  3.355688e-01,\n",
       "         9.509587e-02,  2.730910e-01,  2.448625e-02,  7.488444e-02,\n",
       "         3.302635e-01, -3.053875e-01,  1.210820e+00, -2.571445e-01,\n",
       "        -6.499817e-01, -1.039241e+00,  5.446467e-01, -2.342715e-01,\n",
       "        -2.141560e-01,  1.736449e+00,  3.514251e-01, -3.420529e-01,\n",
       "        -4.696232e-01, -7.168052e-02,  8.120720e-01,  1.607128e-01,\n",
       "        -9.532697e-01, -5.058695e-01,  5.524900e-01,  5.901064e-01,\n",
       "        -5.222334e-01,  1.593389e-01,  5.967399e-01,  2.223347e-01,\n",
       "         5.673734e-01, -4.246528e-02,  1.304158e+00, -1.729949e-01,\n",
       "        -1.074485e+00,  5.799553e-01, -1.173799e+00, -5.818654e-01,\n",
       "        -8.134814e-02, -7.383232e-01,  1.332844e+00, -4.429582e-01,\n",
       "         4.642139e-01, -7.511488e-02, -4.062985e-01, -8.101875e-01,\n",
       "        -1.328896e+00, -1.378485e-01, -5.634289e-02,  1.187565e+00,\n",
       "         1.022674e+00, -8.961027e-01,  6.253523e-01,  7.079693e-01,\n",
       "        -4.918869e-01,  4.761550e-01, -2.409674e-01, -6.475715e-02,\n",
       "         8.800999e-02,  1.818908e+00, -1.167035e+00, -3.644007e-01,\n",
       "        -4.097302e-01, -1.422877e+00, -4.737919e-01, -2.557130e-01,\n",
       "         6.980738e-01,  7.589301e-01,  5.900671e-01, -6.934115e-01,\n",
       "         3.411300e-01, -1.083018e-03,  1.074284e+00, -1.296313e+00,\n",
       "        -4.676817e-01, -7.147113e-01,  1.415871e+00, -7.913461e-01,\n",
       "        -1.861793e-01, -2.037222e-01, -5.469003e-01,  5.113254e-01,\n",
       "        -5.972742e-01, -1.138472e+00]),\n",
       " 'tiết_lộ': array([-1.308045  ,  0.9506664 ,  2.3402    , -0.4334157 , -0.2442499 ,\n",
       "         1.175481  , -0.393907  , -2.15717   , -1.74279   , -1.584158  ,\n",
       "        -1.677369  ,  2.493632  , -0.3418505 , -0.7097018 , -0.5986751 ,\n",
       "        -0.4244195 ,  0.4535106 , -0.9516134 ,  0.8189476 , -1.4792    ,\n",
       "         1.635431  , -0.3464767 , -0.05055514, -0.950589  , -1.047019  ,\n",
       "        -0.9542666 ,  1.1558    ,  1.066147  , -0.413026  ,  0.2132268 ,\n",
       "        -0.9792426 , -0.8605029 , -2.5729    ,  1.093349  , -0.3083846 ,\n",
       "         0.181632  ,  0.8024955 , -2.848259  ,  0.5009302 ,  0.8041676 ,\n",
       "         0.2804638 ,  1.55653   ,  0.4042216 , -0.6151645 ,  0.8243402 ,\n",
       "        -0.9122702 ,  1.079119  , -0.04719136,  1.029446  ,  0.6448661 ,\n",
       "        -2.741749  ,  1.212165  ,  0.4045609 , -0.9077207 ,  0.3905981 ,\n",
       "         0.9609408 , -1.831012  ,  1.157745  , -0.4255127 , -0.6594302 ,\n",
       "        -0.8207166 ,  0.64612   ,  0.3294345 ,  0.6603802 ,  0.9874766 ,\n",
       "         0.6310598 , -0.07133743,  0.961866  ,  2.756996  , -0.1973051 ,\n",
       "         0.06357343, -0.2486178 ,  2.471342  ,  0.9055547 , -1.295833  ,\n",
       "         0.1387323 , -0.3764468 ,  0.6241935 ,  2.364105  ,  0.1743847 ,\n",
       "         0.8524086 , -1.299192  , -2.027167  , -1.596868  , -1.166597  ,\n",
       "         0.7259535 ,  0.2366346 , -0.01825162, -0.9759739 , -0.7360188 ,\n",
       "        -0.5547591 ,  0.7331819 ,  0.1182481 ,  0.6583861 , -0.3055599 ,\n",
       "         1.515522  ,  1.061654  , -0.6815574 , -0.2203334 , -0.153928  ,\n",
       "         1.808646  ,  1.055933  ,  1.390353  , -1.856859  , -0.4215332 ,\n",
       "         1.521479  , -1.006058  , -0.9863495 ,  0.6569793 , -2.37609   ,\n",
       "         1.180825  ,  2.406125  , -0.5068256 , -0.4583806 , -1.442055  ,\n",
       "        -0.3181026 ,  0.274065  , -0.1751709 ,  1.504793  , -1.414029  ,\n",
       "         2.417017  ,  0.1554848 ,  1.080563  ,  1.204991  , -0.2418037 ,\n",
       "        -0.1034258 ,  0.9525244 , -2.497666  ,  0.7672511 , -0.5035596 ,\n",
       "         0.4773201 ,  0.06923018,  1.428213  ,  0.9107334 , -0.2186174 ,\n",
       "         0.298357  , -0.8269107 ,  1.730332  ,  2.14478   ,  1.323554  ,\n",
       "        -2.070473  , -0.8077184 , -0.9450415 ,  1.240186  , -1.445371  ,\n",
       "         1.118764  ,  0.7162852 , -0.7167358 , -1.000471  , -0.2341897 ])}"
      ]
     },
     "metadata": {},
     "execution_count": 57
    }
   ]
  },
  {
   "cell_type": "code",
   "execution_count": 30,
   "metadata": {
    "execution": {
     "iopub.execute_input": "2020-11-13T09:57:00.830303Z",
     "iopub.status.busy": "2020-11-13T09:57:00.829458Z",
     "iopub.status.idle": "2020-11-13T09:57:00.832657Z",
     "shell.execute_reply": "2020-11-13T09:57:00.831838Z"
    },
    "papermill": {
     "duration": 0.034753,
     "end_time": "2020-11-13T09:57:00.832826",
     "exception": false,
     "start_time": "2020-11-13T09:57:00.798073",
     "status": "completed"
    },
    "tags": []
   },
   "outputs": [],
   "source": [
    "def cosine_similarity(A, B):\n",
    "   return np.sum(A*B) / np.sqrt(np.sum(A**2)*np.sum(B**2))"
   ]
  },
  {
   "cell_type": "code",
   "execution_count": 45,
   "metadata": {},
   "outputs": [
    {
     "output_type": "execute_result",
     "data": {
      "text/plain": [
       "0.27708595986827755"
      ]
     },
     "metadata": {},
     "execution_count": 45
    }
   ],
   "source": [
    "cosine_similarity(embeddings['động'], embeddings['tĩnh'])"
   ]
  },
  {
   "source": [
    "phần bên dưới chưa ổn, word_pairs chứa 1 cặp từ nhưng không thể xác định đó là cặp từ đồng nghĩa hay trái nghĩa. trường hợp 1 từ xuất hiện trong nhiều cặp từ sẽ bị ghi đè do dùng dict"
   ],
   "cell_type": "markdown",
   "metadata": {}
  },
  {
   "cell_type": "code",
   "execution_count": 52,
   "metadata": {
    "execution": {
     "iopub.execute_input": "2020-11-13T09:55:48.900033Z",
     "iopub.status.busy": "2020-11-13T09:55:48.899262Z",
     "iopub.status.idle": "2020-11-13T09:55:48.904882Z",
     "shell.execute_reply": "2020-11-13T09:55:48.904127Z"
    },
    "papermill": {
     "duration": 0.030834,
     "end_time": "2020-11-13T09:55:48.905003",
     "exception": false,
     "start_time": "2020-11-13T09:55:48.874169",
     "status": "completed"
    },
    "tags": []
   },
   "outputs": [],
   "source": [
    "visim_path = \"Visim-400.txt\"\n",
    "lines = read_file_to_list(visim_path)"
   ]
  },
  {
   "cell_type": "code",
   "execution_count": 62,
   "metadata": {},
   "outputs": [
    {
     "output_type": "execute_result",
     "data": {
      "text/plain": [
       "['động\\ttĩnh\\tV\\t0.6\\t1.0\\t0.95\\n',\n",
       " 'khuyết\\tưu\\tN\\t0.2\\t0.33\\t0.4\\n',\n",
       " 'cõi_tục\\tcõi_âm\\tN\\t0.6\\t1.0\\t0.95\\n',\n",
       " 'thủ_pháp\\tbiện_pháp\\tN\\t4.13\\t6.88\\t1.26\\n',\n",
       " 'kết_duyên\\tthành_hôn\\tV\\t5.27\\t8.78\\t1.06\\n',\n",
       " 'cấp_tiến\\tbảo_thủ\\tA\\t0.87\\t1.45\\t1.15\\n',\n",
       " 'nước_lớn\\tnguy_hiểm\\tN\\t1.07\\t1.78\\t1.12\\n',\n",
       " 'hoa\\tnhị\\tN\\t2.27\\t3.78\\t0.93\\n',\n",
       " 'bất_lợi\\tthuận_lợi\\tN\\t0.33\\t0.55\\t0.79\\n',\n",
       " 'phân_ly\\tsum_họp\\tV\\t0.47\\t0.78\\t1.09\\n']"
      ]
     },
     "metadata": {},
     "execution_count": 62
    }
   ],
   "source": [
    "lines = lines[1:]\n",
    "lines[:6]"
   ]
  },
  {
   "cell_type": "code",
   "execution_count": 64,
   "metadata": {},
   "outputs": [
    {
     "output_type": "execute_result",
     "data": {
      "text/plain": [
       "['động', 'tĩnh', 'khuyết', 'ưu', 'cõi_tục', 'cõi_âm']"
      ]
     },
     "metadata": {},
     "execution_count": 64
    }
   ],
   "source": [
    "words = []\n",
    "for line in lines:\n",
    "    word_pair = line.split('\\t')[:2]\n",
    "    words += word_pair\n",
    "words[:6]"
   ]
  },
  {
   "cell_type": "code",
   "execution_count": 66,
   "metadata": {},
   "outputs": [
    {
     "output_type": "execute_result",
     "data": {
      "text/plain": [
       "{'động': 'tĩnh',\n",
       " 'khuyết': 'ưu',\n",
       " 'cõi_tục': 'trần_gian',\n",
       " 'thủ_pháp': 'biện_pháp'}"
      ]
     },
     "metadata": {},
     "execution_count": 66
    }
   ],
   "source": [
    "it = iter(words)\n",
    "word_pairs = dict(zip(it, it))\n",
    "dict(list(word_pairs.items())[0:4])"
   ]
  },
  {
   "cell_type": "code",
   "execution_count": 60,
   "metadata": {
    "execution": {
     "iopub.execute_input": "2020-11-13T09:57:01.634191Z",
     "iopub.status.busy": "2020-11-13T09:57:01.633073Z",
     "iopub.status.idle": "2020-11-13T09:57:01.638314Z",
     "shell.execute_reply": "2020-11-13T09:57:01.637229Z"
    },
    "papermill": {
     "duration": 0.039696,
     "end_time": "2020-11-13T09:57:01.638459",
     "exception": false,
     "start_time": "2020-11-13T09:57:01.598763",
     "status": "completed"
    },
    "tags": []
   },
   "outputs": [
    {
     "output_type": "execute_result",
     "data": {
      "text/plain": [
       "-0.05675546684293722"
      ]
     },
     "metadata": {},
     "execution_count": 60
    }
   ],
   "source": [
    "cosine_similarity(embeddings['nhà_thi_đấu'], embeddings['tĩnh'])"
   ]
  },
  {
   "cell_type": "code",
   "execution_count": null,
   "metadata": {
    "papermill": {
     "duration": 0.027339,
     "end_time": "2020-11-13T09:57:01.695565",
     "exception": false,
     "start_time": "2020-11-13T09:57:01.668226",
     "status": "completed"
    },
    "tags": []
   },
   "outputs": [],
   "source": []
  }
 ],
 "metadata": {
  "kernelspec": {
   "display_name": "Python 3",
   "language": "python",
   "name": "python3"
  },
  "language_info": {
   "codemirror_mode": {
    "name": "ipython",
    "version": 3
   },
   "file_extension": ".py",
   "mimetype": "text/x-python",
   "name": "python",
   "nbconvert_exporter": "python",
   "pygments_lexer": "ipython3",
   "version": "3.8.6-final"
  },
  "papermill": {
   "duration": 77.882864,
   "end_time": "2020-11-13T09:57:01.832938",
   "environment_variables": {},
   "exception": null,
   "input_path": "__notebook__.ipynb",
   "output_path": "__notebook__.ipynb",
   "parameters": {},
   "start_time": "2020-11-13T09:55:43.950074",
   "version": "2.1.0"
  }
 },
 "nbformat": 4,
 "nbformat_minor": 4
}